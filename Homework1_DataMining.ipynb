{
  "nbformat": 4,
  "nbformat_minor": 0,
  "metadata": {
    "colab": {
      "name": "Homework1_DataMining.ipynb",
      "version": "0.3.2",
      "provenance": [],
      "collapsed_sections": []
    },
    "kernelspec": {
      "name": "python3",
      "display_name": "Python 3"
    }
  },
  "cells": [
    {
      "metadata": {
        "id": "pC01qqwXfptV",
        "colab_type": "text"
      },
      "cell_type": "markdown",
      "source": [
        "# Classification and Regression\n",
        "\n",
        "Problema propusa este prezicerea label-urilor **Breed Name** si **Longevity(yrs)** comparand diferite modele cu diversi hiper-parametrii. Setul de date contine informatii despre caini precum: Weight(g),  Height(cm),  Energy  level,Attention  Needs,Owner  Name,  Coat  Length,  Sex.\n",
        "\n",
        "Modelele ce trebuie folosite si comparate sunt: *Linear Regression (Ridge, Lasso)*, *Logistic Regression*, *Random Forests* si *KNN*."
      ]
    },
    {
      "metadata": {
        "id": "C_B9716wgUpO",
        "colab_type": "code",
        "outputId": "bb00b6a9-d9fd-48cc-951e-76d14b48f63b",
        "colab": {
          "resources": {
            "http://localhost:8080/nbextensions/google.colab/files.js": {
              "data": "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",
              "ok": true,
              "headers": [
                [
                  "content-type",
                  "application/javascript"
                ]
              ],
              "status": 200,
              "status_text": ""
            }
          },
          "base_uri": "https://localhost:8080/",
          "height": 73
        }
      },
      "cell_type": "code",
      "source": [
        "from google.colab import files\n",
        "\n",
        "uploaded = files.upload()"
      ],
      "execution_count": 3,
      "outputs": [
        {
          "output_type": "display_data",
          "data": {
            "text/html": [
              "\n",
              "     <input type=\"file\" id=\"files-67286186-13ee-4b96-bee6-6ac4abe103c3\" name=\"files[]\" multiple disabled />\n",
              "     <output id=\"result-67286186-13ee-4b96-bee6-6ac4abe103c3\">\n",
              "      Upload widget is only available when the cell has been executed in the\n",
              "      current browser session. Please rerun this cell to enable.\n",
              "      </output>\n",
              "      <script src=\"/nbextensions/google.colab/files.js\"></script> "
            ],
            "text/plain": [
              "<IPython.core.display.HTML object>"
            ]
          },
          "metadata": {
            "tags": []
          }
        },
        {
          "output_type": "stream",
          "text": [
            "Saving Ciolacu_C_Florentina_Neluța_train.csv to Ciolacu_C_Florentina_Neluța_train.csv\n"
          ],
          "name": "stdout"
        }
      ]
    },
    {
      "metadata": {
        "colab_type": "text",
        "id": "7OZTrJGmjkGt"
      },
      "cell_type": "markdown",
      "source": [
        "## Citirea datelor"
      ]
    },
    {
      "metadata": {
        "id": "9zoktTsojbSX",
        "colab_type": "code",
        "colab": {}
      },
      "cell_type": "code",
      "source": [
        "import numpy as np\n",
        "import pandas as pd\n",
        "\n",
        "dataset = pd.read_csv(\"Ciolacu_C_Florentina_Neluța_train.csv\")"
      ],
      "execution_count": 0,
      "outputs": []
    },
    {
      "metadata": {
        "id": "YUPNgdWNj0OI",
        "colab_type": "text"
      },
      "cell_type": "markdown",
      "source": [
        "## Renuntarea la datele nule\n",
        "\n",
        "Am cautat valorile nule, apoi am renuntat la ele, dupa care am resetat indecsii."
      ]
    },
    {
      "metadata": {
        "id": "LBBD3sDHkLeo",
        "colab_type": "code",
        "outputId": "c98e0d8a-8963-4c78-b654-773d9b0e3552",
        "colab": {
          "base_uri": "https://localhost:8080/",
          "height": 185
        }
      },
      "cell_type": "code",
      "source": [
        "print(dataset.isnull().sum())"
      ],
      "execution_count": 32,
      "outputs": [
        {
          "output_type": "stream",
          "text": [
            "Breed Name           0\n",
            "Weight(g)            0\n",
            "Height(cm)         184\n",
            "Longevity(yrs)       0\n",
            "Energy level         0\n",
            "Attention Needs      0\n",
            "Coat Lenght          0\n",
            "Sex                  0\n",
            "Owner Name           0\n",
            "dtype: int64\n"
          ],
          "name": "stdout"
        }
      ]
    },
    {
      "metadata": {
        "id": "169Cse4ikTTd",
        "colab_type": "code",
        "colab": {}
      },
      "cell_type": "code",
      "source": [
        "modified_dataset = dataset.dropna()\n",
        "modified_dataset = modified_dataset.reset_index(drop=True)"
      ],
      "execution_count": 0,
      "outputs": []
    },
    {
      "metadata": {
        "id": "JpI4y_PA2dRz",
        "colab_type": "text"
      },
      "cell_type": "markdown",
      "source": [
        "### Renuntarea la coloana Owner Name\n",
        "\n",
        "Aceasta nu era necesara pentru rezolvarea problemei."
      ]
    },
    {
      "metadata": {
        "id": "WTLhATI5oVXf",
        "colab_type": "code",
        "colab": {}
      },
      "cell_type": "code",
      "source": [
        "modified_dataset = modified_dataset.drop('Owner Name', axis=1)"
      ],
      "execution_count": 0,
      "outputs": []
    },
    {
      "metadata": {
        "id": "WogAFAWskrzp",
        "colab_type": "text"
      },
      "cell_type": "markdown",
      "source": [
        "## Encodarea Categorical Data\n",
        "\n",
        "Cea mai buna abordare pentru datele de tip \"categorical\" a fost encodarea sub forma one hot.\n",
        "\n",
        "Coloanele de acest tip au fost: Energy Level, Attention Needs, Coat Lenght, Sex."
      ]
    },
    {
      "metadata": {
        "id": "9ABoM3hvm4w0",
        "colab_type": "code",
        "colab": {}
      },
      "cell_type": "code",
      "source": [
        "from sklearn.preprocessing import LabelEncoder\n",
        "\n",
        "categorical_columns = [\"Energy level\", \"Attention Needs\", \"Coat Lenght\", \"Sex\"]\n",
        "for column in categorical_columns:\n",
        "    le = LabelEncoder()\n",
        "    columns = set(dataset[column].tolist())\n",
        "    columns = {key: value for key, value in zip(range(len(columns)), columns)}\n",
        "    modified_dataset[column + \"_encoded\"] = le.fit_transform(modified_dataset[column])\n",
        "    modified_dataset = modified_dataset.drop(column, axis=1) # drop the old collumns"
      ],
      "execution_count": 0,
      "outputs": []
    },
    {
      "metadata": {
        "id": "JVcw7NcsnLM4",
        "colab_type": "text"
      },
      "cell_type": "markdown",
      "source": [
        "### Vizualizarea distributiei datelor\n",
        "\n",
        "Am incercat aplicarea functiei log pe coloana Weight(g), dar nu am obtinut rezultate cu mult diferite intr-un sens bun."
      ]
    },
    {
      "metadata": {
        "id": "AoO1APm3nTsG",
        "colab_type": "code",
        "outputId": "8c21055b-1bac-4b5b-a32d-4643ae730b4b",
        "colab": {
          "base_uri": "https://localhost:8080/",
          "height": 448
        }
      },
      "cell_type": "code",
      "source": [
        "modified_dataset.hist()"
      ],
      "execution_count": 37,
      "outputs": [
        {
          "output_type": "execute_result",
          "data": {
            "text/plain": [
              "array([[<matplotlib.axes._subplots.AxesSubplot object at 0x7f89f12ca0f0>,\n",
              "        <matplotlib.axes._subplots.AxesSubplot object at 0x7f89f121c4e0>,\n",
              "        <matplotlib.axes._subplots.AxesSubplot object at 0x7f89f136f1d0>],\n",
              "       [<matplotlib.axes._subplots.AxesSubplot object at 0x7f89f15a7198>,\n",
              "        <matplotlib.axes._subplots.AxesSubplot object at 0x7f89f13e4710>,\n",
              "        <matplotlib.axes._subplots.AxesSubplot object at 0x7f89f13e47b8>],\n",
              "       [<matplotlib.axes._subplots.AxesSubplot object at 0x7f89f17263c8>,\n",
              "        <matplotlib.axes._subplots.AxesSubplot object at 0x7f89f10dd4e0>,\n",
              "        <matplotlib.axes._subplots.AxesSubplot object at 0x7f89f141e1d0>]],\n",
              "      dtype=object)"
            ]
          },
          "metadata": {
            "tags": []
          },
          "execution_count": 37
        },
        {
          "output_type": "display_data",
          "data": {
            "image/png": "[encoded data removed]",
            "text/plain": [
              "<matplotlib.figure.Figure at 0x7f89f12ca7b8>"
            ]
          },
          "metadata": {
            "tags": []
          }
        }
      ]
    },
    {
      "metadata": {
        "id": "3x0hrmCAn9gW",
        "colab_type": "code",
        "colab": {}
      },
      "cell_type": "code",
      "source": [
        "from sklearn.preprocessing import OneHotEncoder\n",
        "\n",
        "categorical_columns = [\"Energy level\", \"Attention Needs\", \"Coat Lenght\", \"Sex\"]\n",
        "for column in categorical_columns:\n",
        "    ohe = OneHotEncoder()\n",
        "    columns = set(dataset[column].tolist())\n",
        "    columns = {key: value for key, value in zip(range(len(columns)), columns)}\n",
        "    aux = ohe.fit_transform(modified_dataset[column + \"_encoded\"].values.reshape(-1, 1)).toarray()\n",
        "    aux = pd.DataFrame(aux, columns=[column + \"_\" + columns.get(i) for i in range(aux.shape[1])])\n",
        "    modified_dataset = pd.concat([modified_dataset, aux], axis=1)\n",
        "    modified_dataset = modified_dataset.drop(column + \"_encoded\", axis=1)"
      ],
      "execution_count": 0,
      "outputs": []
    },
    {
      "metadata": {
        "id": "g8mbc17fotA5",
        "colab_type": "text"
      },
      "cell_type": "markdown",
      "source": [
        "## Normalizarea coloanelor Weight(g) si Height(cm)"
      ]
    },
    {
      "metadata": {
        "id": "ETPamwdBo0QS",
        "colab_type": "code",
        "colab": {}
      },
      "cell_type": "code",
      "source": [
        "modified_dataset[\"Weight(g)\"] = (modified_dataset[\"Weight(g)\"] - modified_dataset[\"Weight(g)\"].min()) / (modified_dataset[\"Weight(g)\"].max() - modified_dataset[\"Weight(g)\"].min())\n",
        "modified_dataset[\"Height(cm)\"] = (modified_dataset[\"Height(cm)\"] - modified_dataset[\"Height(cm)\"].min()) / (modified_dataset[\"Height(cm)\"].max() - modified_dataset[\"Height(cm)\"].min())"
      ],
      "execution_count": 0,
      "outputs": []
    },
    {
      "metadata": {
        "id": "fnGBQxrk3C3F",
        "colab_type": "text"
      },
      "cell_type": "markdown",
      "source": [
        "# Task 1 - Classification\n",
        "\n",
        "Pentru clasificare, trebuie sa renuntam la coloana de Longevity(yrs)"
      ]
    },
    {
      "metadata": {
        "id": "-yveXJzY3ZTg",
        "colab_type": "code",
        "colab": {}
      },
      "cell_type": "code",
      "source": [
        "modified_dataset = modified_dataset.drop('Longevity(yrs)', axis=1)"
      ],
      "execution_count": 0,
      "outputs": []
    },
    {
      "metadata": {
        "id": "MmYZpq9O3dBG",
        "colab_type": "text"
      },
      "cell_type": "markdown",
      "source": [
        "## Encodarea coloanei de Breed Name\n",
        "\n",
        "Deoarece variantele de Breed Name au fost considerate un numar limitat, am hotarat sa vad aceasta coloana ca niste numere asociate fiecarui Breed Name"
      ]
    },
    {
      "metadata": {
        "id": "NbaAvDya37H9",
        "colab_type": "code",
        "colab": {}
      },
      "cell_type": "code",
      "source": [
        "breed_list = set(modified_dataset['Breed Name'].tolist())\n",
        "breed_encoding = {}\n",
        "for breed_name, index in zip(breed_list, range(len(breed_list))):\n",
        "    breed_encoding[breed_name] = index\n",
        "modified_dataset = modified_dataset\n",
        "modified_dataset['Breed Name'] = modified_dataset['Breed Name'].map(lambda el: breed_encoding.get(el))"
      ],
      "execution_count": 0,
      "outputs": []
    },
    {
      "metadata": {
        "id": "DJOZD-uu5UmW",
        "colab_type": "text"
      },
      "cell_type": "markdown",
      "source": [
        "## Vizualizarea datelor\n",
        "\n",
        "Plotarea in functie de Weight(g) si Height(cm)"
      ]
    },
    {
      "metadata": {
        "id": "icEPNUfz5_-j",
        "colab_type": "code",
        "colab": {}
      },
      "cell_type": "code",
      "source": [
        "import matplotlib.pyplot as plt\n",
        "\n",
        "%matplotlib inline\n",
        "\n",
        "plt.scatter(modified_dataset[\"Weight(g)\"], modified_dataset[\"Height(cm)\"], c = modified_dataset[\"Breed Name\"].values.reshape(-1), s = 50, cmap = \"gnuplot\", edgecolor = \"black\", linewidth=0.5)"
      ],
      "execution_count": 0,
      "outputs": []
    },
    {
      "metadata": {
        "id": "ttTd1ieR6JlF",
        "colab_type": "text"
      },
      "cell_type": "markdown",
      "source": [
        "## Impartirea setului de date in features si labels, apoi in train si test"
      ]
    },
    {
      "metadata": {
        "id": "J1GPvbRU6VwV",
        "colab_type": "code",
        "colab": {}
      },
      "cell_type": "code",
      "source": [
        "from sklearn.model_selection import train_test_split\n",
        "\n",
        "X = modified_dataset.drop('Breed Name', axis=1)\n",
        "y = modified_dataset[\"Breed Name\"]\n",
        "\n",
        "x_train, x_test, y_train, y_test = train_test_split(X, y)"
      ],
      "execution_count": 0,
      "outputs": []
    },
    {
      "metadata": {
        "id": "y6WVEemD6mxa",
        "colab_type": "text"
      },
      "cell_type": "markdown",
      "source": [
        "## Functia plot_decision_boundary\n",
        "\n",
        "Functia de plotare a separarii punctelor/claselor in functie de hiperplane.\n",
        "\n",
        "Alegerea featuririlor majoritare"
      ]
    },
    {
      "metadata": {
        "id": "KfK7mbPI8Jgk",
        "colab_type": "code",
        "colab": {}
      },
      "cell_type": "code",
      "source": [
        "print(\"Energy Level\")\n",
        "print(x_test[\"Energy level_low\"].mode()[0])\n",
        "print(x_test[\"Energy level_med\"].mode()[0])\n",
        "print(x_test[\"Energy level_high\"].mode()[0])\n",
        "print(\"Attention Needs\")\n",
        "print(x_test[\"Attention Needs_low\"].mode()[0])\n",
        "print(x_test[\"Attention Needs_med\"].mode()[0])\n",
        "print(x_test[\"Attention Needs_high\"].mode()[0])\n",
        "print(\"Coat Lenght\")\n",
        "print(x_test[\"Coat Lenght_short\"].mode()[0])\n",
        "print(x_test[\"Coat Lenght_med\"].mode()[0])\n",
        "print(x_test[\"Coat Lenght_long\"].mode()[0])\n",
        "print(\"Sex\")\n",
        "print(x_test[\"Sex_male\"].mode()[0])\n",
        "print(x_test[\"Sex_female\"].mode()[0])"
      ],
      "execution_count": 0,
      "outputs": []
    },
    {
      "metadata": {
        "id": "nQDc99w98RB0",
        "colab_type": "code",
        "colab": {}
      },
      "cell_type": "code",
      "source": [
        "def plot_decision_boundary(model, X, y, class_no):\n",
        "    #utilizarea feature-urilor majoritare\n",
        "    features_maj = np.array([1, 0, 0, 1, 0, 0, 0, 0, 1, 0, 1])\n",
        "    X = np.array(X)\n",
        "    y = np.array(y)\n",
        "    xx, yy = np.mgrid[X[:,0].min():X[:,0].max():.01, X[:,1].min():X[:,1].max():.01]\n",
        "    grid = np.c_[xx.ravel(), yy.ravel()]\n",
        "    features_maj = np.tile(features_maj[np.newaxis,:], (grid.shape[0],1))\n",
        "    grid = np.concatenate((grid, features_maj), axis=1) # concatenate them\n",
        "    probs = model.predict_proba(grid)[:, class_no].reshape(xx.shape)\n",
        "    f, ax = plt.subplots(figsize=(10, 10))\n",
        "    contour = ax.contourf(xx, yy, probs, 25, cmap=\"RdBu\")\n",
        "    ax_c = f.colorbar(contour)\n",
        "    ax_c.set_label(\"$P(y = {})$\".format(class_no))\n",
        "\n",
        "    ax.scatter(X[:,0], X[:, 1], c=y, s=50,\n",
        "             cmap=\"gnuplot\",\n",
        "             edgecolor=\"white\", linewidth=1)\n",
        "\n",
        "    ax.set(aspect=\"auto\",\n",
        "         xlabel=\"$X_1$\", ylabel=\"$X_2$\")"
      ],
      "execution_count": 0,
      "outputs": []
    },
    {
      "metadata": {
        "id": "sRHV8McA8wMt",
        "colab_type": "text"
      },
      "cell_type": "markdown",
      "source": [
        "## Alegerea hiper-parametrilor folosind KFold cross validation"
      ]
    },
    {
      "metadata": {
        "id": "CXbv1VpC8yxf",
        "colab_type": "code",
        "colab": {}
      },
      "cell_type": "code",
      "source": [
        "from sklearn.model_selection import KFold\n",
        "\n",
        "from sklearn.linear_model import LogisticRegression\n",
        "from sklearn.ensemble import RandomForestClassifier\n",
        "from sklearn.neighbors import KNeighborsClassifier\n",
        "\n",
        "from sklearn.metrics import precision_score, f1_score, accuracy_score\n",
        "\n",
        "\n",
        "kf = KFold(n_splits=5)\n",
        "\n",
        "for i, (Model, kwargs) in enumerate([(LogisticRegression, {}), (LogisticRegression, {\"C\": 1.0, \"solver\": 'newton-cg', \"multi_class\": 'multinomial'}), (LogisticRegression, {\"C\": 2.0, \"solver\": 'newton-cg', \"multi_class\": 'multinomial'}), (LogisticRegression, {\"C\": 1.0, \"solver\": 'sag', \"multi_class\": 'multinomial'}), (LogisticRegression, {\"C\": 2.0, \"solver\": 'sag', \"multi_class\": 'multinomial'}),\n",
        "                                     (RandomForestClassifier, {}), (RandomForestClassifier, {\"n_estimators\": 50, \"criterion\": \"entropy\"}), (RandomForestClassifier, {\"n_estimators\": 50, \"criterion\": \"gini\"}), (RandomForestClassifier, {\"n_estimators\": 100, \"criterion\": \"entropy\"}), (RandomForestClassifier, {\"n_estimators\": 100, \"criterion\": \"gini\"}), \n",
        "                                     (KNeighborsClassifier, {}), (KNeighborsClassifier, {\"n_neighbors\": 2, \"p\": 1}), (KNeighborsClassifier, {\"n_neighbors\": 2, \"p\": 2}), (KNeighborsClassifier, {\"n_neighbors\": 3, \"p\": 1}), (KNeighborsClassifier, {\"n_neighbors\": 3, \"p\": 2}), (KNeighborsClassifier, {\"n_neighbors\": 4, \"p\": 1}), (KNeighborsClassifier, {\"n_neighbors\": 4, \"p\": 2}), (KNeighborsClassifier, {\"n_neighbors\": 5, \"p\": 1}), (KNeighborsClassifier, {\"n_neighbors\": 5, \"p\": 2}),]):\n",
        "    accuracies = []\n",
        "    precisions = []\n",
        "    f1_scores = []\n",
        "    print(Model.__name__, kwargs)\n",
        "    for k, (train_index, test_index) in enumerate(kf.split(x_train)):\n",
        "        xx_train = x_train.iloc[train_index]\n",
        "        yy_train = y_train.iloc[train_index]\n",
        "\n",
        "        xx_validation = x_train.iloc[test_index]\n",
        "        yy_validation = y_train.iloc[test_index]\n",
        "\n",
        "        model = Model(**kwargs)\n",
        "        model.fit(xx_train, yy_train)\n",
        "        \n",
        "        accuracy = accuracy_score(yy_validation, model.predict(xx_validation))\n",
        "        precision = precision_score(yy_validation, model.predict(xx_validation), average=\"weighted\")\n",
        "        f1 = f1_score(yy_validation, model.predict(xx_validation), average=\"weighted\")\n",
        "        accuracies.append(accuracy)\n",
        "        precisions.append(precision)\n",
        "        f1_scores.append(f1)\n",
        "        print(\"split\", k, \"accuracy\", accuracy, \"precision\", precision, \"f1_score\", f1)\n",
        "    print(\"Average accuracy:\", np.average(accuracies))\n",
        "    print(\"Average precision:\", np.average(precisions))\n",
        "    print(\"Average f1 score:\", np.average(f1_scores))\n",
        "    print(\"\\n\\n\")"
      ],
      "execution_count": 0,
      "outputs": []
    },
    {
      "metadata": {
        "id": "MRqerOLZ-aHi",
        "colab_type": "code",
        "colab": {}
      },
      "cell_type": "code",
      "source": [
        "best_models = [\n",
        "    (LogisticRegression, {'C': 2.0, 'solver': 'newton-cg', 'multi_class': 'multinomial'}),\n",
        "    (RandomForestClassifier, {'n_estimators': 50, 'criterion': 'entropy'}), \n",
        "    (KNeighborsClassifier, {'n_neighbors': 3, 'p': 1})\n",
        "]"
      ],
      "execution_count": 0,
      "outputs": []
    },
    {
      "metadata": {
        "id": "K07PheSz_gjZ",
        "colab_type": "code",
        "colab": {}
      },
      "cell_type": "code",
      "source": [
        "for i, (Model, kwargs) in enumerate(best_models):\n",
        "    model = Model(**kwargs)\n",
        "    model.fit(x_train, y_train)\n",
        "  \n",
        "    test_accuracy = accuracy_score(model.predict(x_test), y_test)\n",
        "    test_precision = precision_score(y_test, model.predict(x_test), average=\"weighted\")\n",
        "    test_f1 = f1_score(y_test, model.predict(x_test), average=\"weighted\")\n",
        "    print(Model.__name__)\n",
        "    print()\n",
        "    print(\"accuracy\", test_accuracy)\n",
        "    print(\"precision\", test_precision)\n",
        "    print(\"f1_score\", f1)\n",
        "    print(\"\\n\")"
      ],
      "execution_count": 0,
      "outputs": []
    },
    {
      "metadata": {
        "id": "67P4giCY_9Vw",
        "colab_type": "text"
      },
      "cell_type": "markdown",
      "source": [
        "## Calling the plot_decision_boundary function"
      ]
    },
    {
      "metadata": {
        "id": "uC9AWjhjACuL",
        "colab_type": "code",
        "colab": {}
      },
      "cell_type": "code",
      "source": [
        "Model, kwargs = best_models[0]\n",
        "model = Model(**kwargs)\n",
        "model.fit(x_train, y_train)\n",
        "for cls in range(4):\n",
        "    plot_decision_boundary(model, x_test, y_test, cls)"
      ],
      "execution_count": 0,
      "outputs": []
    },
    {
      "metadata": {
        "id": "TAsfaueuAHnk",
        "colab_type": "code",
        "colab": {}
      },
      "cell_type": "code",
      "source": [
        "Model, kwargs = best_models[1]\n",
        "model = Model(**kwargs)\n",
        "model.fit(x_train, y_train)\n",
        "for cls in range(4):\n",
        "    plot_decision_boundary(model, x_test, y_test, cls)"
      ],
      "execution_count": 0,
      "outputs": []
    },
    {
      "metadata": {
        "id": "80hY8OF1APNb",
        "colab_type": "code",
        "colab": {}
      },
      "cell_type": "code",
      "source": [
        "Model, kwargs = best_models[2]\n",
        "model = Model(**kwargs)\n",
        "model.fit(x_train, y_train)\n",
        "for cls in range(4):\n",
        "    plot_decision_boundary(model, x_test, y_test, cls)"
      ],
      "execution_count": 0,
      "outputs": []
    },
    {
      "metadata": {
        "id": "SoM8N9nWTRPx",
        "colab_type": "text"
      },
      "cell_type": "markdown",
      "source": [
        "# Task 2 - Regression\n",
        "\n",
        "Pentru regresie, trebuie sa renuntam la coloana Breed Name"
      ]
    },
    {
      "metadata": {
        "id": "LFGDizd9Tr7L",
        "colab_type": "code",
        "colab": {}
      },
      "cell_type": "code",
      "source": [
        "modified_dataset = modified_dataset.drop('Breed Name', axis=1)"
      ],
      "execution_count": 0,
      "outputs": []
    },
    {
      "metadata": {
        "id": "rQ8LpHguUHXh",
        "colab_type": "text"
      },
      "cell_type": "markdown",
      "source": [
        "##Impartirea setului de date in features si labels, apoi in train si test"
      ]
    },
    {
      "metadata": {
        "id": "rU2zWlODUWbD",
        "colab_type": "code",
        "colab": {}
      },
      "cell_type": "code",
      "source": [
        "X = modified_dataset.drop('Longevity(yrs)', axis=1)\n",
        "y = modified_dataset[\"Longevity(yrs)\"]\n",
        "\n",
        "x_train, x_test, y_train, y_test = train_test_split(X, y)"
      ],
      "execution_count": 0,
      "outputs": []
    },
    {
      "metadata": {
        "id": "HmbOyDNjUf8g",
        "colab_type": "text"
      },
      "cell_type": "markdown",
      "source": [
        "##Vizualizarea datelor\n",
        "\n",
        "Dependenta coloanei Longevity(yrs) de coloanele Weight(g) si Height(cm)"
      ]
    },
    {
      "metadata": {
        "id": "mq8XNT5SUnFj",
        "colab_type": "code",
        "colab": {
          "base_uri": "https://localhost:8080/",
          "height": 782
        },
        "outputId": "1805ca85-3e06-49b7-f972-24b7b3190b52"
      },
      "cell_type": "code",
      "source": [
        "plt.figure()\n",
        "plt.plot(X[\"Weight(g)\"], y, \"o\")\n",
        "plt.figure()\n",
        "plt.plot(X[\"Height(cm)\"], y, \"o\")\n",
        "plt.figure()\n",
        "plt.plot(X[\"Weight(g)\"], 'y')\n",
        "plt.plot(X[\"Height(cm)\"], \"b\")\n",
        "plt.axis([0, 150, -1, 2])"
      ],
      "execution_count": 46,
      "outputs": [
        {
          "output_type": "execute_result",
          "data": {
            "text/plain": [
              "[0, 150, -1, 2]"
            ]
          },
          "metadata": {
            "tags": []
          },
          "execution_count": 46
        },
        {
          "output_type": "display_data",
          "data": {
            "image/png": "[encoded data removed]",
            "text/plain": [
              "<matplotlib.figure.Figure at 0x7f89f10af400>"
            ]
          },
          "metadata": {
            "tags": []
          }
        },
        {
          "output_type": "display_data",
          "data": {
            "image/png": "[encoded data removed]",
            "text/plain": [
              "<matplotlib.figure.Figure at 0x7f89f11bd080>"
            ]
          },
          "metadata": {
            "tags": []
          }
        },
        {
          "output_type": "display_data",
          "data": {
            "image/png": "[encoded data removed]",
            "text/plain": [
              "<matplotlib.figure.Figure at 0x7f89f0dd3128>"
            ]
          },
          "metadata": {
            "tags": []
          }
        }
      ]
    },
    {
      "metadata": {
        "id": "LjjMtajVVS8A",
        "colab_type": "text"
      },
      "cell_type": "markdown",
      "source": [
        "##Alegerea hiper-parametrilor folosind Grid Search Cross Validation\n",
        "\n",
        "Am utilizat aceasta metoda pentru a descoperi care este combinatia care are cel mai bun scor."
      ]
    },
    {
      "metadata": {
        "id": "cFFyyPyKVfC3",
        "colab_type": "code",
        "colab": {}
      },
      "cell_type": "code",
      "source": [
        "from sklearn.model_selection import GridSearchCV"
      ],
      "execution_count": 0,
      "outputs": []
    },
    {
      "metadata": {
        "id": "3zOnLa_HVtu1",
        "colab_type": "text"
      },
      "cell_type": "markdown",
      "source": [
        "###Linear Regression"
      ]
    },
    {
      "metadata": {
        "id": "6GaLcCt2WCem",
        "colab_type": "code",
        "colab": {}
      },
      "cell_type": "code",
      "source": [
        "from sklearn.linear_model import LinearRegression\n",
        "\n",
        "model = LinearRegression()\n",
        "params = {}\n",
        "reg = GridSearchCV(model, params, cv=5, return_train_score=True, scoring=\"neg_mean_squared_error\")\n",
        "reg.fit(X, y)\n",
        "results = reg.cv_results_\n",
        "for res in results:\n",
        "    print(str(res) + \": \" + str(results[res]))"
      ],
      "execution_count": 0,
      "outputs": []
    },
    {
      "metadata": {
        "id": "cvflm6ugWTHS",
        "colab_type": "text"
      },
      "cell_type": "markdown",
      "source": [
        "###Ridge"
      ]
    },
    {
      "metadata": {
        "id": "JKq_iIMwWVO7",
        "colab_type": "code",
        "colab": {}
      },
      "cell_type": "code",
      "source": [
        "from sklearn.linear_model import Ridge\n",
        "\n",
        "model = Ridge()\n",
        "params = {\"alpha\": [0.1, 0.2, 0.4, 0.8, 1.0],\n",
        "          \"tol\": [0.0001, 0.001, 0.01, 0.1, 1.0],\n",
        "          \"solver\": [\"auto\", \"svd\", \"cholesky\", \"lsqr\", \"sparse_cg\", \"sag\", \"saga\"]}\n",
        "reg = GridSearchCV(model, params, cv=5, return_train_score=True, scoring=\"neg_mean_squared_error\")\n",
        "reg.fit(X, y)\n",
        "results = reg.cv_results_\n",
        "nr_elems = len(results[\"mean_fit_time\"])\n",
        "print(\"Max test score:\", max(results[\"mean_test_score\"]))\n",
        "print(\"Max train score:\", max(results[\"mean_train_score\"]))\n",
        "print(\"Min test score:\", min(results[\"mean_test_score\"]))\n",
        "print(\"Min train score:\", min(results[\"mean_train_score\"]))\n",
        "print(\"\\n\")\n",
        "for i in range(nr_elems):\n",
        "    for res in results:\n",
        "        print(str(res) + \": \" + str(results[res][i]))\n",
        "    print(\"\\n\")"
      ],
      "execution_count": 0,
      "outputs": []
    },
    {
      "metadata": {
        "id": "GIRt1gSWWjtT",
        "colab_type": "text"
      },
      "cell_type": "markdown",
      "source": [
        "###Lasso"
      ]
    },
    {
      "metadata": {
        "id": "AF2jxzoFWl9i",
        "colab_type": "code",
        "colab": {}
      },
      "cell_type": "code",
      "source": [
        "from sklearn.linear_model import Lasso\n",
        "\n",
        "model = Lasso()\n",
        "params = {\"alpha\": [0.1, 0.2, 0.4, 0.8, 1.0],\n",
        "          \"tol\": [0.0001, 0.001, 0.01, 0.1, 1.0],\n",
        "          \"warm_start\": [True, False],\n",
        "          \"positive\": [True, False],\n",
        "          \"selection\": [\"cyclic\", \"random\"]}\n",
        "reg = GridSearchCV(model, params, cv=5, return_train_score=True, scoring=\"neg_mean_squared_error\")\n",
        "reg.fit(X, y)\n",
        "results = reg.cv_results_\n",
        "nr_elems = len(results[\"mean_fit_time\"])\n",
        "print(\"Max test score:\", max(results[\"mean_test_score\"]))\n",
        "print(\"Max train score:\", max(results[\"mean_train_score\"]))\n",
        "print(\"Min test score:\", min(results[\"mean_test_score\"]))\n",
        "print(\"Min train score:\", min(results[\"mean_train_score\"]))\n",
        "print(\"\\n\")\n",
        "for i in range(nr_elems):\n",
        "    for res in results:\n",
        "        print(str(res) + \":\" + str(results[res][i]))\n",
        "    print(\"\\n\")"
      ],
      "execution_count": 0,
      "outputs": []
    },
    {
      "metadata": {
        "id": "j-g09TTTXZ_K",
        "colab_type": "text"
      },
      "cell_type": "markdown",
      "source": [
        "###KNN"
      ]
    },
    {
      "metadata": {
        "id": "fvQ_K4YnXcRG",
        "colab_type": "code",
        "colab": {}
      },
      "cell_type": "code",
      "source": [
        "from sklearn.neighbors import KNeighborsRegressor\n",
        "\n",
        "model = KNeighborsRegressor()\n",
        "params = {\"n_neighbors\": [1, 2, 3, 4, 5, 6, 7],\n",
        "          \"algorithm\": ['auto', 'ball_tree', 'kd_tree', 'brute']}\n",
        "reg = GridSearchCV(model, params, cv=5, return_train_score=True, scoring=\"neg_mean_squared_error\")\n",
        "reg.fit(X, y)\n",
        "results = reg.cv_results_\n",
        "nr_elems = len(results[\"mean_fit_time\"])\n",
        "print(\"Max test score:\", max(results[\"mean_test_score\"]))\n",
        "print(\"Max train score:\", max(results[\"mean_train_score\"]))\n",
        "print(\"Min test score:\", min(results[\"mean_test_score\"]))\n",
        "print(\"Min train score:\", min(results[\"mean_train_score\"]))\n",
        "print(\"\\n\")\n",
        "for i in range(nr_elems):\n",
        "    for res in results:\n",
        "        print(str(res) + \": \" + str(results[res][i]))\n",
        "    print(\"\\n\")"
      ],
      "execution_count": 0,
      "outputs": []
    }
  ]
}